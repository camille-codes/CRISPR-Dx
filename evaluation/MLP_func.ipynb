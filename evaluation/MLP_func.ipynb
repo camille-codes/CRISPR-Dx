{
  "nbformat": 4,
  "nbformat_minor": 0,
  "metadata": {
    "colab": {
      "provenance": [],
      "collapsed_sections": []
    },
    "kernelspec": {
      "name": "python3",
      "display_name": "Python 3"
    },
    "language_info": {
      "name": "python"
    }
  },
  "cells": [
    {
      "cell_type": "code",
      "source": [
        "!pip install pydot"
      ],
      "metadata": {
        "colab": {
          "base_uri": "https://localhost:8080/"
        },
        "id": "vqVYB1HkY2S6",
        "outputId": "0278f14a-bf3b-4b2d-a356-c8819a2b8ff2"
      },
      "execution_count": null,
      "outputs": [
        {
          "output_type": "stream",
          "name": "stdout",
          "text": [
            "Looking in indexes: https://pypi.org/simple, https://us-python.pkg.dev/colab-wheels/public/simple/\n",
            "Requirement already satisfied: pydot in /usr/local/lib/python3.7/dist-packages (1.3.0)\n",
            "Requirement already satisfied: pyparsing>=2.1.4 in /usr/local/lib/python3.7/dist-packages (from pydot) (3.0.9)\n"
          ]
        }
      ]
    },
    {
      "cell_type": "code",
      "source": [
        "import pandas as pd\n",
        "import keras\n",
        "import tensorflow as tf\n",
        "from keras.utils.vis_utils import plot_model\n",
        "from keras.models import Model\n",
        "from keras.layers import Input\n",
        "from keras.layers import Dense\n",
        "from keras.layers import Dropout\n",
        "from keras.layers import Conv2D\n",
        "from keras.layers import MaxPooling2D\n",
        "from keras.layers import Flatten\n",
        "from keras.callbacks import EarlyStopping\n",
        "from matplotlib import pyplot\n",
        "import numpy as np\n",
        "from sklearn.preprocessing import LabelEncoder\n",
        "from sklearn.preprocessing import OneHotEncoder\n",
        "from keras.models import Sequential\n",
        "#from tensorflow.python.keras.optimizer_v2.adam import Adam"
      ],
      "metadata": {
        "id": "_6ijq8RBNy7Q"
      },
      "execution_count": null,
      "outputs": []
    },
    {
      "cell_type": "code",
      "execution_count": null,
      "metadata": {
        "id": "0P8D5fktNsS4"
      },
      "outputs": [],
      "source": [
        "df_train = pd.read_csv('drive/MyDrive/capstone_data/training_data_w_cas.csv')\n",
        "df_holdout = pd.read_csv('drive/MyDrive/capstone_data/hold_out_test_w_cas.csv')\n",
        "\n",
        "X_train = df_train.drop([\"Activity\", 'guide_seq', 'label'], axis=1)\n",
        "y_train = df_train['label']\n",
        "\n",
        "X_test = df_holdout.drop([\"Activity\", 'guide_seq', 'label'], axis=1)\n",
        "y_test = df_holdout['label']"
      ]
    },
    {
      "cell_type": "code",
      "source": [
        "# visible = Input(shape=(125,)) # input layer\n",
        "# hidden1 = Dense(55, activation='relu')(visible) # 60 \n",
        "# output = Dense(1, activation='sigmoid')(hidden1) # 1 for output\n",
        "\n",
        "# visible = Input(shape=(125,)) # input layer\n",
        "# hidden1 = Dense(55, activation='relu')(visible) # 60 \n",
        "# #hidden2 = Dense(30, activation='relu')(hidden1) # 60 \n",
        "# dropout = Dropout(0.2)(hidden1)\n",
        "# output = Dense(1, activation='sigmoid')(dropout) # 1 for output\n",
        "# model = Model(inputs=visible, outputs=output)\n",
        "\n",
        "# convert to sequential\n",
        "model = Sequential()\n",
        "model.add(Input(shape=(125,)))\n",
        "model.add(Dense(55, activation='relu'))\n",
        "model.add(Dropout(0.2))\n",
        "model.add(Dense(1, activation='sigmoid'))\n",
        "\n",
        "# model = Sequential([\n",
        "#           Dense(units=55, activation=\"relu\"),\n",
        "#           Dropout(0.2),\n",
        "#           Dense(units=1, activation=\"sigmoid\"),\n",
        "#       ])\n",
        "\n",
        "# compile model\n",
        "# np.random.seed(42)\n",
        "# #opt = tf.keras.optimizers.Adam(learning_rate=0.05)\n",
        "# model.compile(loss='binary_crossentropy', optimizer='adam', metrics=[tf.keras.metrics.AUC()])\n",
        "\n",
        "# input_shape= 125\n",
        "# model.build(input_shape)\n",
        "\n",
        "# summarize layers\n",
        "print(model.summary())\n",
        "# plot graph\n",
        "plot_model(model, to_file='multilayer_perceptron_graph.png')"
      ],
      "metadata": {
        "colab": {
          "base_uri": "https://localhost:8080/",
          "height": 657
        },
        "id": "gYwkd_mqOAz0",
        "outputId": "5e0532e5-2390-42f5-b05f-2be68009aaa0"
      },
      "execution_count": null,
      "outputs": [
        {
          "output_type": "stream",
          "name": "stdout",
          "text": [
            "Model: \"sequential_6\"\n",
            "_________________________________________________________________\n",
            " Layer (type)                Output Shape              Param #   \n",
            "=================================================================\n",
            " dense_9 (Dense)             (None, 55)                6930      \n",
            "                                                                 \n",
            " dropout_5 (Dropout)         (None, 55)                0         \n",
            "                                                                 \n",
            " dense_10 (Dense)            (None, 1)                 56        \n",
            "                                                                 \n",
            "=================================================================\n",
            "Total params: 6,986\n",
            "Trainable params: 6,986\n",
            "Non-trainable params: 0\n",
            "_________________________________________________________________\n",
            "None\n"
          ]
        },
        {
          "output_type": "execute_result",
          "data": {
            "image/png": "[encoded data removed]",
            "text/plain": [
              "<IPython.core.display.Image object>"
            ]
          },
          "metadata": {},
          "execution_count": 128
        }
      ]
    },
    {
      "cell_type": "code",
      "source": [
        "# compile model\n",
        "np.random.seed(42)\n",
        "#opt = tf.keras.optimizers.Adam(learning_rate=0.05)\n",
        "model.compile(loss='binary_crossentropy', optimizer='adam', metrics=[tf.keras.metrics.AUC()])\n",
        "\n",
        "# stop epoch when loss increases after 5 epoch?\n",
        "es = EarlyStopping(monitor='val_loss', mode='min', verbose=1, patience=5)\n",
        "# history = model.fit(X_train, y_train, validation_data=(X_test, y_test), epochs=20, validation_split=0.3, callbacks=[es])\n",
        "history = model.fit(X_train, y_train, epochs=20, validation_split=0.3, callbacks=[es])\n",
        "\n",
        "\n",
        "test_scores = model.evaluate(X_test, y_test, verbose=2)\n",
        "print(\"Test loss:\", test_scores[0])\n",
        "print(\"Test auc:\", test_scores[1])"
      ],
      "metadata": {
        "colab": {
          "base_uri": "https://localhost:8080/"
        },
        "id": "4gV-55TNa1RS",
        "outputId": "2b6a25e7-20d4-4565-f5fb-b94c3e70f8d1"
      },
      "execution_count": null,
      "outputs": [
        {
          "output_type": "stream",
          "name": "stdout",
          "text": [
            "Epoch 1/20\n",
            "195/195 [==============================] - 3s 8ms/step - loss: 0.6398 - auc: 0.6782 - val_loss: 0.7266 - val_auc: 0.5410\n",
            "Epoch 2/20\n",
            "195/195 [==============================] - 1s 4ms/step - loss: 0.5895 - auc: 0.7463 - val_loss: 0.7385 - val_auc: 0.5355\n",
            "Epoch 3/20\n",
            "195/195 [==============================] - 1s 3ms/step - loss: 0.5706 - auc: 0.7669 - val_loss: 0.7294 - val_auc: 0.5349\n",
            "Epoch 4/20\n",
            "195/195 [==============================] - 1s 3ms/step - loss: 0.5578 - auc: 0.7806 - val_loss: 0.7285 - val_auc: 0.5338\n",
            "Epoch 5/20\n",
            "195/195 [==============================] - 1s 3ms/step - loss: 0.5433 - auc: 0.7941 - val_loss: 0.7258 - val_auc: 0.5341\n",
            "Epoch 6/20\n",
            "195/195 [==============================] - 1s 3ms/step - loss: 0.5299 - auc: 0.8088 - val_loss: 0.7251 - val_auc: 0.5414\n",
            "Epoch 7/20\n",
            "195/195 [==============================] - 1s 3ms/step - loss: 0.5175 - auc: 0.8187 - val_loss: 0.7258 - val_auc: 0.5390\n",
            "Epoch 8/20\n",
            "195/195 [==============================] - 1s 3ms/step - loss: 0.5078 - auc: 0.8265 - val_loss: 0.7213 - val_auc: 0.5514\n",
            "Epoch 9/20\n",
            "195/195 [==============================] - 1s 3ms/step - loss: 0.4953 - auc: 0.8376 - val_loss: 0.7176 - val_auc: 0.5504\n",
            "Epoch 10/20\n",
            "195/195 [==============================] - 1s 3ms/step - loss: 0.4893 - auc: 0.8428 - val_loss: 0.7187 - val_auc: 0.5625\n",
            "Epoch 11/20\n",
            "195/195 [==============================] - 1s 3ms/step - loss: 0.4807 - auc: 0.8487 - val_loss: 0.7104 - val_auc: 0.5696\n",
            "Epoch 12/20\n",
            "195/195 [==============================] - 1s 3ms/step - loss: 0.4722 - auc: 0.8559 - val_loss: 0.7098 - val_auc: 0.5798\n",
            "Epoch 13/20\n",
            "195/195 [==============================] - 1s 3ms/step - loss: 0.4619 - auc: 0.8622 - val_loss: 0.7078 - val_auc: 0.5834\n",
            "Epoch 14/20\n",
            "195/195 [==============================] - 1s 3ms/step - loss: 0.4561 - auc: 0.8660 - val_loss: 0.7017 - val_auc: 0.5954\n",
            "Epoch 15/20\n",
            "195/195 [==============================] - 1s 3ms/step - loss: 0.4523 - auc: 0.8701 - val_loss: 0.7033 - val_auc: 0.5960\n",
            "Epoch 16/20\n",
            "195/195 [==============================] - 1s 3ms/step - loss: 0.4488 - auc: 0.8711 - val_loss: 0.7008 - val_auc: 0.6054\n",
            "Epoch 17/20\n",
            "195/195 [==============================] - 1s 3ms/step - loss: 0.4434 - auc: 0.8747 - val_loss: 0.7065 - val_auc: 0.5970\n",
            "Epoch 18/20\n",
            "195/195 [==============================] - 1s 3ms/step - loss: 0.4354 - auc: 0.8785 - val_loss: 0.6987 - val_auc: 0.6103\n",
            "Epoch 19/20\n",
            "195/195 [==============================] - 1s 3ms/step - loss: 0.4266 - auc: 0.8862 - val_loss: 0.7037 - val_auc: 0.6081\n",
            "Epoch 20/20\n",
            "195/195 [==============================] - 1s 3ms/step - loss: 0.4236 - auc: 0.8866 - val_loss: 0.7045 - val_auc: 0.6095\n",
            "120/120 - 0s - loss: 0.5941 - auc: 0.7499 - 174ms/epoch - 1ms/step\n",
            "Test loss: 0.5941205024719238\n",
            "Test auc: 0.7498566508293152\n"
          ]
        }
      ]
    },
    {
      "cell_type": "code",
      "source": [
        "# get ROC curve score and Precision-Recall\n",
        "from sklearn.metrics import roc_curve\n",
        "y_pred_keras = model.predict(X_test).ravel()\n",
        "fpr_keras, tpr_keras, thresholds_keras = roc_curve(y_test, y_pred_keras)\n"
      ],
      "metadata": {
        "id": "13pt9sEA_uN7",
        "colab": {
          "base_uri": "https://localhost:8080/"
        },
        "outputId": "1c5f85de-a031-45a1-b1fa-34c1fc79352b"
      },
      "execution_count": null,
      "outputs": [
        {
          "output_type": "stream",
          "name": "stdout",
          "text": [
            "120/120 [==============================] - 0s 1ms/step\n"
          ]
        }
      ]
    },
    {
      "cell_type": "code",
      "source": [
        "import matplotlib.pyplot as plt\n",
        "from sklearn.metrics import precision_recall_curve, roc_auc_score, roc_curve, auc\n",
        "\n",
        "def auROC_plot(y_test, y_pred_proba):\n",
        "    fpr, tpr, _ = roc_curve(y_test, y_pred_proba)\n",
        "    roc_auc = roc_auc_score(y_test, y_pred_proba)\n",
        "\n",
        "    auroc = auc(fpr, tpr)\n",
        "\n",
        "\n",
        "    plt.title('Receiver Operating Characteristic')\n",
        "    plt.plot(fpr, tpr, label = 'MLP AUC = %0.2f' % auroc) # blue=cpf1, orange=adapt, green=dc\n",
        "    plt.legend(loc = 'lower right')\n",
        "    plt.plot([0, 1], [0, 1],'r--')\n",
        "    plt.xlim([0, 1])\n",
        "    plt.ylim([0, 1])\n",
        "    plt.ylabel('True Positive Rate')\n",
        "    plt.xlabel('False Positive Rate')\n",
        "    plt.show()"
      ],
      "metadata": {
        "id": "bGQtln8fBOtl"
      },
      "execution_count": null,
      "outputs": []
    },
    {
      "cell_type": "code",
      "source": [
        "from sklearn.metrics import precision_recall_curve\n",
        "import time\n",
        "# AUROC SCORE\n",
        "\n",
        "start_time = time.time()\n",
        "y_pred_proba = model.predict(X_test)\n",
        "print(\"--- %s seconds ---\" % (time.time() - start_time))\n",
        "\n",
        "fpr, tpr, _ = roc_curve(y_test, y_pred_proba)\n",
        "roc_auc = roc_auc_score(y_test, y_pred_proba)\n",
        "\n",
        "list_fpr = list(fpr)\n",
        "list_tpr = list(tpr)\n",
        "df_scores_auc = pd.DataFrame({'FPR': list_fpr, 'TPR': list_tpr})\n",
        "\n",
        "df_scores_auc.to_csv(\"MLP_fpr_tpr.csv\", sep=',')\n",
        "\n",
        "auROC_plot(y_test, y_pred_proba)\n",
        "\n",
        "# PRECISION-RECALL SCORE\n",
        "precision, recall, thresholds = precision_recall_curve(y_test, y_pred_proba)\n",
        "pr_auc = auc(recall, precision)\n",
        "list_pr = list(precision)\n",
        "list_rc = list(recall)\n",
        "df_scores_rc = pd.DataFrame({'Precision': list_pr, 'Recall': list_rc})\n",
        "df_scores_rc.to_csv(\"MLP_pr_rc.csv\", sep=',')\n",
        "\n",
        "# create precision recall curve\n",
        "fig, ax = plt.subplots()\n",
        "ax.plot(recall, precision, label = 'MLP AUC = %0.2f' % pr_auc)\n",
        "\n",
        "# add axis labels to plot\n",
        "ax.set_title('Precision-Recall Curve')\n",
        "ax.set_ylabel('Precision')\n",
        "ax.set_xlabel('Recall')\n",
        "\n",
        "# display plot\n",
        "plt.legend(loc = 'lower right')\n",
        "plt.show()"
      ],
      "metadata": {
        "colab": {
          "base_uri": "https://localhost:8080/",
          "height": 609
        },
        "id": "se4X9UI8BDOJ",
        "outputId": "06d03fb4-cf8f-470c-967c-d2f770d46a79"
      },
      "execution_count": null,
      "outputs": [
        {
          "output_type": "stream",
          "name": "stdout",
          "text": [
            "120/120 [==============================] - 0s 1ms/step\n",
            "--- 0.36635589599609375 seconds ---\n"
          ]
        },
        {
          "output_type": "display_data",
          "data": {
            "text/plain": [
              "<Figure size 432x288 with 1 Axes>"
            ],
            "image/png": "[encoded data removed]"
          },
          "metadata": {
            "needs_background": "light"
          }
        },
        {
          "output_type": "display_data",
          "data": {
            "text/plain": [
              "<Figure size 432x288 with 1 Axes>"
            ],
            "image/png": "[encoded data removed]"
          },
          "metadata": {
            "needs_background": "light"
          }
        }
      ]
    },
    {
      "cell_type": "code",
      "source": [
        "from sklearn.metrics import classification_report\n",
        "# get recall, precision, F1, accuracy, and auc* scores of test\n",
        "\n",
        "predictions_cv = (y_pred_proba > 0.5).astype(np.int)\n",
        "print(y_test)\n",
        "print(predictions_cv)\n",
        "print(y_pred_proba)"
      ],
      "metadata": {
        "id": "g5KegulCnL__",
        "colab": {
          "base_uri": "https://localhost:8080/"
        },
        "outputId": "26406247-588e-4c22-fd6e-0020334ca75b"
      },
      "execution_count": null,
      "outputs": [
        {
          "output_type": "stream",
          "name": "stdout",
          "text": [
            "0       0\n",
            "1       1\n",
            "2       0\n",
            "3       1\n",
            "4       1\n",
            "       ..\n",
            "3813    0\n",
            "3814    0\n",
            "3815    0\n",
            "3816    1\n",
            "3817    0\n",
            "Name: label, Length: 3818, dtype: int64\n",
            "[[0]\n",
            " [1]\n",
            " [1]\n",
            " ...\n",
            " [0]\n",
            " [1]\n",
            " [1]]\n",
            "[[0.39262074]\n",
            " [0.8105297 ]\n",
            " [0.5955011 ]\n",
            " ...\n",
            " [0.41463166]\n",
            " [0.50956863]\n",
            " [0.65832466]]\n"
          ]
        },
        {
          "output_type": "stream",
          "name": "stderr",
          "text": [
            "/usr/local/lib/python3.7/dist-packages/ipykernel_launcher.py:4: DeprecationWarning: `np.int` is a deprecated alias for the builtin `int`. To silence this warning, use `int` by itself. Doing this will not modify any behavior and is safe. When replacing `np.int`, you may wish to use e.g. `np.int64` or `np.int32` to specify the precision. If you wish to review your current use, check the release note link for additional information.\n",
            "Deprecated in NumPy 1.20; for more details and guidance: https://numpy.org/devdocs/release/1.20.0-notes.html#deprecations\n",
            "  after removing the cwd from sys.path.\n"
          ]
        }
      ]
    },
    {
      "cell_type": "code",
      "source": [
        "from sklearn.metrics import matthews_corrcoef\n",
        "from sklearn.metrics import confusion_matrix\n",
        "\n",
        "aupr = auc(recall, precision)\n",
        "\n",
        "# report metrics\n",
        "report = classification_report(y_test, predictions_cv, output_dict=True)\n",
        "m_corr = matthews_corrcoef(y_test, predictions_cv, sample_weight=None)\n",
        "df_report = pd.DataFrame(report).transpose()\n",
        "\n",
        "# save confusion matrix\n",
        "df_confusion_matrix = pd.DataFrame(confusion_matrix(predictions_cv, y_test))\n",
        "df_confusion_matrix.to_csv(\"MLP_confusion matrix.csv\", sep=',')\n",
        "\n",
        "print(df_report)\n",
        "print(\"MCorr: \", m_corr)\n",
        "print(\"aupr: \", aupr)\n",
        "print(\"auroc: \", roc_auc)\n",
        "\n",
        "#output report\n",
        "df_report.to_csv(\"MLP_report.csv\", sep=',')"
      ],
      "metadata": {
        "colab": {
          "base_uri": "https://localhost:8080/"
        },
        "id": "s7VNMPkcRI4K",
        "outputId": "d3fea4cb-ebe1-4389-8e91-9b2af4825dd5"
      },
      "execution_count": null,
      "outputs": [
        {
          "output_type": "stream",
          "name": "stdout",
          "text": [
            "              precision    recall  f1-score      support\n",
            "0              0.689601  0.675759  0.682610  1943.000000\n",
            "1              0.670846  0.684800  0.677751  1875.000000\n",
            "accuracy       0.680199  0.680199  0.680199     0.680199\n",
            "macro avg      0.680224  0.680280  0.680181  3818.000000\n",
            "weighted avg   0.680391  0.680199  0.680224  3818.000000\n",
            "MCorr:  0.3605031809973618\n",
            "aupr:  0.7227209422644116\n",
            "auroc:  0.7498609023846285\n"
          ]
        }
      ]
    },
    {
      "cell_type": "code",
      "source": [
        "!pip install eli5"
      ],
      "metadata": {
        "colab": {
          "base_uri": "https://localhost:8080/"
        },
        "id": "XJ5zPwLOVznG",
        "outputId": "74613169-89aa-40f7-c294-87610ced656a"
      },
      "execution_count": null,
      "outputs": [
        {
          "output_type": "stream",
          "name": "stdout",
          "text": [
            "Looking in indexes: https://pypi.org/simple, https://us-python.pkg.dev/colab-wheels/public/simple/\n",
            "Collecting eli5\n",
            "  Downloading eli5-0.13.0.tar.gz (216 kB)\n",
            "\u001b[K     |████████████████████████████████| 216 kB 5.2 MB/s \n",
            "\u001b[?25hRequirement already satisfied: attrs>17.1.0 in /usr/local/lib/python3.7/dist-packages (from eli5) (22.1.0)\n",
            "Collecting jinja2>=3.0.0\n",
            "  Downloading Jinja2-3.1.2-py3-none-any.whl (133 kB)\n",
            "\u001b[K     |████████████████████████████████| 133 kB 53.5 MB/s \n",
            "\u001b[?25hRequirement already satisfied: numpy>=1.9.0 in /usr/local/lib/python3.7/dist-packages (from eli5) (1.21.6)\n",
            "Requirement already satisfied: scipy in /usr/local/lib/python3.7/dist-packages (from eli5) (1.7.3)\n",
            "Requirement already satisfied: six in /usr/local/lib/python3.7/dist-packages (from eli5) (1.15.0)\n",
            "Requirement already satisfied: scikit-learn>=0.20 in /usr/local/lib/python3.7/dist-packages (from eli5) (1.0.2)\n",
            "Requirement already satisfied: graphviz in /usr/local/lib/python3.7/dist-packages (from eli5) (0.10.1)\n",
            "Requirement already satisfied: tabulate>=0.7.7 in /usr/local/lib/python3.7/dist-packages (from eli5) (0.8.10)\n",
            "Requirement already satisfied: MarkupSafe>=2.0 in /usr/local/lib/python3.7/dist-packages (from jinja2>=3.0.0->eli5) (2.0.1)\n",
            "Requirement already satisfied: threadpoolctl>=2.0.0 in /usr/local/lib/python3.7/dist-packages (from scikit-learn>=0.20->eli5) (3.1.0)\n",
            "Requirement already satisfied: joblib>=0.11 in /usr/local/lib/python3.7/dist-packages (from scikit-learn>=0.20->eli5) (1.2.0)\n",
            "Building wheels for collected packages: eli5\n",
            "  Building wheel for eli5 (setup.py) ... \u001b[?25l\u001b[?25hdone\n",
            "  Created wheel for eli5: filename=eli5-0.13.0-py2.py3-none-any.whl size=107748 sha256=528c68c1db145e7dbe6aea5e5dab6b36bef1add52a4e73fb1dc22a79d1076cec\n",
            "  Stored in directory: /root/.cache/pip/wheels/cc/3c/96/3ead31a8e6c20fc0f1a707fde2e05d49a80b1b4b30096573be\n",
            "Successfully built eli5\n",
            "Installing collected packages: jinja2, eli5\n",
            "  Attempting uninstall: jinja2\n",
            "    Found existing installation: Jinja2 2.11.3\n",
            "    Uninstalling Jinja2-2.11.3:\n",
            "      Successfully uninstalled Jinja2-2.11.3\n",
            "\u001b[31mERROR: pip's dependency resolver does not currently take into account all the packages that are installed. This behaviour is the source of the following dependency conflicts.\n",
            "flask 1.1.4 requires Jinja2<3.0,>=2.10.1, but you have jinja2 3.1.2 which is incompatible.\u001b[0m\n",
            "Successfully installed eli5-0.13.0 jinja2-3.1.2\n"
          ]
        }
      ]
    },
    {
      "cell_type": "code",
      "source": [
        "# from sklearn.inspection import permutation_importance\n",
        "\n",
        "# perm_importance = permutation_importance(model, X_train, y_train, scoring=)\n",
        "\n",
        "# feature_names = list(X_train.columns)\n",
        "# features = np.array(feature_names)\n",
        "\n",
        "# sorted_idx = perm_importance.importances_mean.argsort()\n",
        "# plt.barh(features[sorted_idx], perm_importance.importances_mean[sorted_idx])\n",
        "# plt.xlabel(\"Permutation Importance\")\n",
        "# plt.show()"
      ],
      "metadata": {
        "id": "Ts7qpHk4VNxm"
      },
      "execution_count": null,
      "outputs": []
    },
    {
      "cell_type": "code",
      "source": [
        "# evaluate the model\n",
        "_, train_auc = model.evaluate(X_train, y_train, verbose=0)\n",
        "_, test_auc = model.evaluate(X_test, y_test, verbose=0)\n",
        "print('Train: %.3f, Test: %.3f' % (train_auc, test_auc))\n",
        "# plot training history\n",
        "pyplot.plot(history.history['loss'], label='train')\n",
        "pyplot.plot(history.history['val_loss'], label='test')\n",
        "pyplot.legend()\n",
        "pyplot.show()"
      ],
      "metadata": {
        "colab": {
          "base_uri": "https://localhost:8080/",
          "height": 286
        },
        "id": "mEDaVVDpiMqu",
        "outputId": "be790eea-21a4-42ef-9c75-c834b2be0098"
      },
      "execution_count": null,
      "outputs": [
        {
          "output_type": "stream",
          "name": "stdout",
          "text": [
            "Train: 0.843, Test: 0.752\n"
          ]
        },
        {
          "output_type": "display_data",
          "data": {
            "text/plain": [
              "<Figure size 432x288 with 1 Axes>"
            ],
            "image/png": "[encoded data removed]"
          },
          "metadata": {
            "needs_background": "light"
          }
        }
      ]
    },
    {
      "cell_type": "code",
      "source": [
        "prediction = model.predict(X_test)\n",
        "print(prediction)"
      ],
      "metadata": {
        "colab": {
          "base_uri": "https://localhost:8080/"
        },
        "id": "Te6UCcinhjkA",
        "outputId": "9509fc05-8cfa-40b0-9f3f-f736b8f6d571"
      },
      "execution_count": null,
      "outputs": [
        {
          "output_type": "stream",
          "name": "stdout",
          "text": [
            "[[0.45553973]\n",
            " [0.8127053 ]\n",
            " [0.5677802 ]\n",
            " ...\n",
            " [0.26031053]\n",
            " [0.3859004 ]\n",
            " [0.6498186 ]]\n"
          ]
        }
      ]
    },
    {
      "cell_type": "markdown",
      "source": [
        "**Convolutional Neural Networks - CNN**\n",
        "1. **Done** - Assign one-hot encoding to guide sequences\n",
        "2. **Done** - Pad shorter sequences with zeroes\n",
        "3. **Done** - Concatenate encoded gRNA to train and test datasets\n",
        "4. Create CNN network\n",
        "5. Add LSTM to network\n",
        "6. Add MLP to network"
      ],
      "metadata": {
        "id": "tyXRPm29sA6b"
      }
    },
    {
      "cell_type": "code",
      "source": [
        "import numpy as np\n",
        "#one hot encoding dna\n",
        "def onehote(sequence):\n",
        "    mapping = {\"A\": 0, \"C\": 1, \"G\": 2, \"T\": 3}\n",
        "    seq2 = [mapping[i] for i in sequence]\n",
        "    return np.eye(4)[seq2]\n",
        "\n",
        "encodedRNA_train = list()\n",
        "encodedRNA_test = list()\n",
        "for seq_train in df_train['guide_seq']:\n",
        "    encodedRNA_train.append(onehote(seq_train))\n",
        "\n",
        "for seq_test in df_holdout['guide_seq']:\n",
        "    encodedRNA_test.append(onehote(seq_test))\n",
        "\n",
        "df_encodedRNA_train = pd.DataFrame({'encoded_gRNA': encodedRNA_train})\n",
        "df_encodedRNA_test = pd.DataFrame({'encoded_gRNA': encodedRNA_test})\n",
        "\n",
        "df_encodedRNA_train.to_csv('encodedRNA_train.csv', sep=',')\n",
        "df_encodedRNA_test.to_csv('encodedRNA_test.csv', sep=',')\n",
        "\n",
        "print(len(df_encodedRNA_test))\n",
        "print(len(df_encodedRNA_train))"
      ],
      "metadata": {
        "colab": {
          "base_uri": "https://localhost:8080/"
        },
        "id": "NpliI543RzD5",
        "outputId": "fd13b551-6852-40c7-ef1b-12efe4d11a73"
      },
      "execution_count": null,
      "outputs": [
        {
          "output_type": "stream",
          "name": "stdout",
          "text": [
            "3818\n",
            "8906\n"
          ]
        }
      ]
    },
    {
      "cell_type": "code",
      "source": [
        "# apply padding of DNA sequences \n",
        "\n",
        "import tensorflow as tf\n",
        "paddingRNA_train=tf.keras.preprocessing.sequence.pad_sequences(encodedRNA_train, padding=\"post\")\n",
        "paddingRNA_test=tf.keras.preprocessing.sequence.pad_sequences(encodedRNA_test, padding=\"post\")\n",
        "\n",
        "paddedRNA_train = list()\n",
        "paddedRNA_test = list()\n",
        "for padded  in paddingRNA_train:\n",
        "    paddedRNA_train.append(padded)\n",
        "\n",
        "for padded  in paddingRNA_test:\n",
        "    paddedRNA_test.append(padded)\n",
        "\n",
        "print(df_train['guide_seq'][0])\n",
        "print(paddedRNA_train[0].T)\n",
        "\n",
        "df_paddingRNA_train = pd.DataFrame({'paddedRNA_train': paddedRNA_train})\n",
        "df_paddingRNA_test= pd.DataFrame({'paddedRNA_test': paddedRNA_test})\n",
        "\n",
        "df_paddingRNA_train.to_csv('paddedRNA_train.csv', sep=',')\n",
        "df_paddingRNA_test.to_csv('paddedRNA_test.csv', sep=',')\n",
        "\n",
        "print(len(df_paddingRNA_train))\n",
        "print(len(df_paddingRNA_test))"
      ],
      "metadata": {
        "colab": {
          "base_uri": "https://localhost:8080/"
        },
        "id": "mhnyezMrLaNW",
        "outputId": "83f2b1a1-d4a8-43a8-d643-ac6053d67e77"
      },
      "execution_count": null,
      "outputs": [
        {
          "output_type": "stream",
          "name": "stdout",
          "text": [
            "CCGGCTGCAGGTCCCAGGTG\n",
            "[[0 0 0 0 0 0 0 0 1 0 0 0 0 0 0 1 0 0 0 0 0 0 0 0 0 0 0 0]\n",
            " [1 1 0 0 1 0 0 1 0 0 0 0 1 1 1 0 0 0 0 0 0 0 0 0 0 0 0 0]\n",
            " [0 0 1 1 0 0 1 0 0 1 1 0 0 0 0 0 1 1 0 1 0 0 0 0 0 0 0 0]\n",
            " [0 0 0 0 0 1 0 0 0 0 0 1 0 0 0 0 0 0 1 0 0 0 0 0 0 0 0 0]]\n",
            "8906\n",
            "3818\n"
          ]
        }
      ]
    },
    {
      "cell_type": "code",
      "source": [
        "# concatenate padded sequences to dataframes\n",
        "\n",
        "df_train['one_hot'] = paddedRNA_train\n",
        "df_holdout['one_hot'] = paddedRNA_test\n",
        "\n",
        "df_train.to_csv('training_data_w_onehot.csv', sep=',')\n",
        "df_holdout.to_csv('holdout_data_w_onehot.csv', sep=',')"
      ],
      "metadata": {
        "id": "lEOI_drrUYOD"
      },
      "execution_count": null,
      "outputs": []
    },
    {
      "cell_type": "code",
      "source": [
        "X_train_seq = df_train['one_hot']\n",
        "X_test_seq = df_holdout['one_hot']\n",
        "\n",
        "y_train_seq = df_train['label']\n",
        "y_test_seq = df_holdout['label']"
      ],
      "metadata": {
        "id": "vIZC99vFnUVd"
      },
      "execution_count": null,
      "outputs": []
    },
    {
      "cell_type": "code",
      "source": [],
      "metadata": {
        "id": "UX9Jbj9x6wCt"
      },
      "execution_count": null,
      "outputs": []
    },
    {
      "cell_type": "code",
      "source": [
        "def one_hot_enc(seq):\n",
        "    #get sequence into an array\n",
        "    seq_array = np.array(list(seq))\n",
        "      \n",
        "    #integer encode the sequence\n",
        "    label_encoder = LabelEncoder()\n",
        "    integer_encoded_seq = label_encoder.fit_transform(seq_array)\n",
        "      \n",
        "    #one hot the sequence\n",
        "    onehot_encoder = OneHotEncoder(sparse=False)\n",
        "    #reshape because that's what OneHotEncoder likes\n",
        "    integer_encoded_seq = integer_encoded_seq.reshape(len(integer_encoded_seq), 1)\n",
        "    onehot_encoded_seq = onehot_encoder.fit_transform(integer_encoded_seq)\n",
        "    return onehot_encoded_seq"
      ],
      "metadata": {
        "id": "q_ttFNq0q8wI"
      },
      "execution_count": null,
      "outputs": []
    },
    {
      "cell_type": "code",
      "source": [
        "# one_hot_train = []\n",
        "# for seq in df_train['guide_seq']:\n",
        "#     one_hot_train.append(one_hot_enc(seq).T)"
      ],
      "metadata": {
        "id": "PkGM6DRsx9uw"
      },
      "execution_count": null,
      "outputs": []
    },
    {
      "cell_type": "code",
      "source": [
        "pad_RNA_train = np.array(paddingRNA_train)\n",
        "pad_RNA_test = np.array(paddingRNA_test)\n",
        "train_features = pad_RNA_train.astype(float)\n",
        "test_features = pad_RNA_test.astype(float)\n",
        "\n",
        "print(train_features[1].shape)"
      ],
      "metadata": {
        "id": "8iMYx83w49Jb",
        "colab": {
          "base_uri": "https://localhost:8080/"
        },
        "outputId": "a37a2d73-a6ce-459a-812a-9c9d7dea11b9"
      },
      "execution_count": null,
      "outputs": [
        {
          "output_type": "stream",
          "name": "stdout",
          "text": [
            "(28, 4)\n"
          ]
        }
      ]
    },
    {
      "cell_type": "code",
      "source": [
        "def encodeLabel(labels):\n",
        "    one_hot_encoder = OneHotEncoder()\n",
        "    labels = np.array(labels).reshape(-1, 1)\n",
        "    labels = one_hot_encoder.fit_transform(labels).toarray()\n",
        "    return labels\n",
        "\n",
        "# le = LabelEncoder()\n",
        "# train_labels_en = le.fit_transform(y_train_seq)\n",
        "# test_labels_en = le.fit_transform(y_test_seq)\n",
        "\n",
        "train_labels=encodeLabel(y_train_seq)\n",
        "test_labels=encodeLabel(y_test_seq)\n",
        "\n",
        "# train_labels = np.array(y_train_seq).astype(float)\n",
        "# test_labels = y_test_seq.astype(float)\n",
        "\t\n"
      ],
      "metadata": {
        "id": "IA7WwnD97oeC"
      },
      "execution_count": null,
      "outputs": []
    },
    {
      "cell_type": "code",
      "source": [
        "# TOKENIZE DNA Seq\n",
        "# from keras.preprocessing.text import Tokenizer\n",
        "\n",
        "# def tokenizer_seq(seq):\n",
        "#   t  = Tokenizer()\n",
        "#   fit_text = \"ACTG\"\n",
        "#   t.fit_on_texts(fit_text)\n",
        "#   token_seq = t.texts_to_sequences(seq)\n",
        "#   return token_seq\n",
        "\n",
        "# token_train = []\n",
        "# for seq in df_train['guide_seq']:\n",
        "#     token_train.append(tokenizer_seq(seq))\n",
        "\n",
        "# token_test = []\n",
        "# for seq in df_holdout['guide_seq']:\n",
        "#     token_test.append(tokenizer_seq(seq))\n",
        "\n",
        "# tokenRNA_train=tf.keras.preprocessing.sequence.pad_sequences(token_train, padding=\"post\")\n",
        "# tokenRNA_test=tf.keras.preprocessing.sequence.pad_sequences(token_test, padding=\"post\")\n",
        "\n",
        "# tokenRNA_train = tokenRNA_train.astype(float)\n",
        "# tokenRNA_test = tokenRNA_test.astype(float)\n"
      ],
      "metadata": {
        "id": "hK7jHQlb9eDR"
      },
      "execution_count": null,
      "outputs": []
    },
    {
      "cell_type": "code",
      "source": [
        "import numpy as np\n",
        "import keras\n",
        "from scipy.io import loadmat\n",
        "from numpy import array,argmax\n",
        "from sklearn.preprocessing import LabelEncoder\n",
        "from sklearn.preprocessing import OneHotEncoder\n",
        "from warnings import simplefilter\n",
        "import tensorflow as tf\n",
        "from keras.layers import Conv1D, Dense, MaxPooling1D, Flatten, Dropout\n",
        "from keras.models import Sequential\n",
        "from sklearn import metrics\n",
        "from scipy.io import loadmat\n",
        "from sklearn.metrics import confusion_matrix\n",
        "from tensorflow.python.keras.optimizer_v2.adam import Adam\n",
        "from tensorflow.keras.layers import BatchNormalization\n",
        "from keras.layers import LeakyReLU\n",
        "\n",
        "model_cnn = Sequential()\n",
        "model_cnn.add(Conv1D(filters=150, kernel_size=2, input_shape=(train_features.shape[1], 4), \n",
        "                padding='same', activation='relu'))\n",
        "model_cnn.add(BatchNormalization(momentum=0.5, epsilon=1e-5, gamma_initializer=\"uniform\"))\n",
        "model_cnn.add(LeakyReLU(alpha=0.1))\n",
        "#model_cnn.add(MaxPooling1D(pool_size=2))\n",
        "model_cnn.add(Conv1D(filters=200, kernel_size=2, padding='same', activation='relu'))\n",
        "model_cnn.add(MaxPooling1D(pool_size=2))\n",
        "model_cnn.add(Flatten())\n",
        "model_cnn.add(Dense(200, activation='relu', name='my_dense'))\n",
        "model_cnn.add(Dense(100, activation='relu'))\n",
        "model_cnn.add(Dropout(0.2))\n",
        "model_cnn.add(Dense(2, activation='sigmoid'))\n",
        "\n",
        "# model = Sequential()\n",
        "# model.add(Conv1D(filters=100, kernel_size=6, input_shape=(train_features.shape[1], 4), \n",
        "#                 padding='same', activation='relu'))\n",
        "# model.add(MaxPooling1D(pool_size=2))\n",
        "# model.add(Conv1D(filters=200, kernel_size=21, padding='same', activation='relu'))\n",
        "# model.add(MaxPooling1D(pool_size=2))\n",
        "# model.add(Flatten())\n",
        "# model.add(Dense(128, activation='relu'))\n",
        "# model.add(Dropout(0.2))\n",
        "# model.add(Dense(2, activation='softmax'))\n",
        "\n",
        "#adam = Adam(learning_rate = 0.03)\n",
        "#opt = tf.keras.optimizers.Adam(learning_rate=0.03)\n",
        "model_cnn.compile(loss='binary_crossentropy', optimizer='adam', metrics=[tf.keras.metrics.AUC()])\n",
        "model_cnn.summary()\n",
        "plot_model(model_cnn, to_file='CNN_graph.png')"
      ],
      "metadata": {
        "colab": {
          "base_uri": "https://localhost:8080/",
          "height": 1000
        },
        "id": "u4s-kp7c9twI",
        "outputId": "75c249d9-e70d-4ef0-f52a-317d1fc43480"
      },
      "execution_count": null,
      "outputs": [
        {
          "output_type": "stream",
          "name": "stdout",
          "text": [
            "Model: \"sequential_5\"\n",
            "_________________________________________________________________\n",
            " Layer (type)                Output Shape              Param #   \n",
            "=================================================================\n",
            " conv1d_6 (Conv1D)           (None, 28, 150)           1350      \n",
            "                                                                 \n",
            " batch_normalization_3 (Batc  (None, 28, 150)          600       \n",
            " hNormalization)                                                 \n",
            "                                                                 \n",
            " leaky_re_lu_3 (LeakyReLU)   (None, 28, 150)           0         \n",
            "                                                                 \n",
            " conv1d_7 (Conv1D)           (None, 28, 200)           60200     \n",
            "                                                                 \n",
            " max_pooling1d_3 (MaxPooling  (None, 14, 200)          0         \n",
            " 1D)                                                             \n",
            "                                                                 \n",
            " flatten_3 (Flatten)         (None, 2800)              0         \n",
            "                                                                 \n",
            " my_dense (Dense)            (None, 200)               560200    \n",
            "                                                                 \n",
            " dense_7 (Dense)             (None, 100)               20100     \n",
            "                                                                 \n",
            " dropout_4 (Dropout)         (None, 100)               0         \n",
            "                                                                 \n",
            " dense_8 (Dense)             (None, 2)                 202       \n",
            "                                                                 \n",
            "=================================================================\n",
            "Total params: 642,652\n",
            "Trainable params: 642,352\n",
            "Non-trainable params: 300\n",
            "_________________________________________________________________\n"
          ]
        },
        {
          "output_type": "execute_result",
          "data": {
            "image/png": "[encoded data removed]",
            "text/plain": [
              "<IPython.core.display.Image object>"
            ]
          },
          "metadata": {},
          "execution_count": 70
        }
      ]
    },
    {
      "cell_type": "code",
      "source": [
        "# es = EarlyStopping(monitor='val_loss', mode='min', verbose=1, patience=3)\n",
        "# history = model.fit(train_features, train_labels, \n",
        "#                     epochs=10, verbose=2, validation_split=0.3, batch_size=300, shuffle=True, callbacks=[es])\n",
        "\n",
        "# datagen = ImageDataGenerator(\n",
        "#     width_shift_range=0.2,\n",
        "#     shear_range = False,\n",
        "#     horizontal_flip = True)\n",
        "\n",
        "es = EarlyStopping(monitor='val_loss', mode='min', verbose=1, patience=5) # will stop when auc stopped increasing after 3 epoch\n",
        "history = model_cnn.fit(train_features, train_labels, batch_size=300, \n",
        "                    epochs=10, verbose=2, validation_split=0.3, shuffle=True, callbacks=[es])\n",
        "\n",
        "# each output is the probability of the first class\n",
        "#predicted_labels = model_cnn.predict(np.argmax(test_features))\n",
        "scores = model_cnn.evaluate(test_features, test_labels, verbose=0)\n",
        "\n",
        "print(scores[1])"
      ],
      "metadata": {
        "colab": {
          "base_uri": "https://localhost:8080/"
        },
        "id": "yTbPpf2d99Vi",
        "outputId": "f0d1bcf9-5754-4f54-ab6f-57af2ea96bc4"
      },
      "execution_count": null,
      "outputs": [
        {
          "output_type": "stream",
          "name": "stdout",
          "text": [
            "Epoch 1/10\n",
            "21/21 - 4s - loss: 0.6528 - auc_5: 0.6687 - val_loss: 0.7560 - val_auc_5: 0.5332 - 4s/epoch - 209ms/step\n",
            "Epoch 2/10\n",
            "21/21 - 3s - loss: 0.5723 - auc_5: 0.7679 - val_loss: 0.7567 - val_auc_5: 0.5326 - 3s/epoch - 142ms/step\n",
            "Epoch 3/10\n",
            "21/21 - 3s - loss: 0.5365 - auc_5: 0.8041 - val_loss: 0.7949 - val_auc_5: 0.5422 - 3s/epoch - 144ms/step\n",
            "Epoch 4/10\n",
            "21/21 - 3s - loss: 0.5232 - auc_5: 0.8152 - val_loss: 0.7821 - val_auc_5: 0.5448 - 3s/epoch - 146ms/step\n",
            "Epoch 5/10\n",
            "21/21 - 3s - loss: 0.5079 - auc_5: 0.8279 - val_loss: 0.7723 - val_auc_5: 0.5582 - 3s/epoch - 143ms/step\n",
            "Epoch 6/10\n",
            "21/21 - 3s - loss: 0.4967 - auc_5: 0.8367 - val_loss: 0.7975 - val_auc_5: 0.5490 - 3s/epoch - 144ms/step\n",
            "Epoch 6: early stopping\n",
            "0.7370617985725403\n"
          ]
        }
      ]
    },
    {
      "cell_type": "code",
      "source": [
        "test_labels"
      ],
      "metadata": {
        "colab": {
          "base_uri": "https://localhost:8080/"
        },
        "id": "wKzjnIzfhwIM",
        "outputId": "32a20829-ffc2-4be6-d013-4af1748a4869"
      },
      "execution_count": null,
      "outputs": [
        {
          "output_type": "execute_result",
          "data": {
            "text/plain": [
              "array([[1., 0.],\n",
              "       [0., 1.],\n",
              "       [1., 0.],\n",
              "       ...,\n",
              "       [1., 0.],\n",
              "       [0., 1.],\n",
              "       [1., 0.]])"
            ]
          },
          "metadata": {},
          "execution_count": 72
        }
      ]
    },
    {
      "cell_type": "code",
      "source": [
        "# evaluate the model\n",
        "_, train_auc = model_cnn.evaluate(train_features, train_labels, verbose=0)\n",
        "_, test_auc = model_cnn.evaluate(test_features, test_labels, verbose=0)\n",
        "print('Train: %.3f, Test: %.3f' % (train_auc, test_auc))\n",
        "# plot training history\n",
        "pyplot.plot(history.history['loss'], label='train')\n",
        "pyplot.plot(history.history['val_loss'], label='test')\n",
        "pyplot.legend()\n",
        "pyplot.show()"
      ],
      "metadata": {
        "colab": {
          "base_uri": "https://localhost:8080/",
          "height": 283
        },
        "id": "qNXhFvZxL1Bt",
        "outputId": "8c81d027-8e33-4596-f985-7d89b8b10cab"
      },
      "execution_count": null,
      "outputs": [
        {
          "output_type": "stream",
          "name": "stdout",
          "text": [
            "Train: 0.760, Test: 0.737\n"
          ]
        },
        {
          "output_type": "display_data",
          "data": {
            "text/plain": [
              "<Figure size 432x288 with 1 Axes>"
            ],
            "image/png": "[encoded data removed]"
          },
          "metadata": {
            "needs_background": "light"
          }
        }
      ]
    },
    {
      "cell_type": "code",
      "source": [
        "from sklearn.metrics import precision_recall_curve\n",
        "import time\n",
        "# AUROC SCORE\n",
        "\n",
        "start_time = time.time()\n",
        "y_pred_proba = model_cnn.predict(test_features)\n",
        "print(\"--- %s seconds ---\" % (time.time() - start_time))\n",
        "\n",
        "y_pred_proba = model_cnn.predict(test_features)[:,0]\n",
        "test_labels = test_labels[:,0]\n",
        "\n",
        "#print(y_test)\n",
        "\n",
        "label_cnn = (y_pred_proba > 0.5).astype(np.int)\n",
        "\n",
        "fpr, tpr, _ = metrics.roc_curve(test_labels, y_pred_proba)\n",
        "roc_auc = metrics.roc_auc_score(test_labels, y_pred_proba)\n",
        "\n",
        "list_fpr = list(fpr)\n",
        "list_tpr = list(tpr)\n",
        "df_scores_auc = pd.DataFrame({'FPR': list_fpr, 'TPR': list_tpr})\n",
        "\n",
        "df_scores_auc.to_csv(\"CNN_fpr_tpr.csv\", sep=',')\n",
        "\n",
        "auROC_plot(test_labels, y_pred_proba)\n",
        "\n",
        "# PRECISION-RECALL SCORE\n",
        "precision, recall, thresholds = precision_recall_curve(test_labels, y_pred_proba)\n",
        "pr_auc = auc(recall, precision)\n",
        "list_pr = list(precision)\n",
        "list_rc = list(recall)\n",
        "df_scores_rc = pd.DataFrame({'Precision': list_pr, 'Recall': list_rc})\n",
        "df_scores_rc.to_csv(\"CNN_pr_rc.csv\", sep=',')\n",
        "\n",
        "# create precision recall curve\n",
        "fig, ax = plt.subplots()\n",
        "ax.plot(recall, precision, label = 'CNN AUC = %0.2f' % pr_auc)\n",
        "\n",
        "# add axis labels to plot\n",
        "ax.set_title('Precision-Recall Curve')\n",
        "ax.set_ylabel('Precision')\n",
        "ax.set_xlabel('Recall')\n",
        "\n",
        "# display plot\n",
        "plt.legend(loc = 'lower right')\n",
        "plt.show()"
      ],
      "metadata": {
        "colab": {
          "base_uri": "https://localhost:8080/",
          "height": 683
        },
        "id": "A_OQZs4Y___H",
        "outputId": "d4af2d44-cd6a-48f7-82b0-b79b7c983a2a"
      },
      "execution_count": null,
      "outputs": [
        {
          "output_type": "stream",
          "name": "stdout",
          "text": [
            "120/120 [==============================] - 1s 7ms/step\n",
            "--- 0.9273922443389893 seconds ---\n",
            "120/120 [==============================] - 1s 7ms/step\n"
          ]
        },
        {
          "output_type": "stream",
          "name": "stderr",
          "text": [
            "`np.int` is a deprecated alias for the builtin `int`. To silence this warning, use `int` by itself. Doing this will not modify any behavior and is safe. When replacing `np.int`, you may wish to use e.g. `np.int64` or `np.int32` to specify the precision. If you wish to review your current use, check the release note link for additional information.\n",
            "Deprecated in NumPy 1.20; for more details and guidance: https://numpy.org/devdocs/release/1.20.0-notes.html#deprecations\n"
          ]
        },
        {
          "output_type": "display_data",
          "data": {
            "text/plain": [
              "<Figure size 432x288 with 1 Axes>"
            ],
            "image/png": "[encoded data removed]"
          },
          "metadata": {
            "needs_background": "light"
          }
        },
        {
          "output_type": "display_data",
          "data": {
            "text/plain": [
              "<Figure size 432x288 with 1 Axes>"
            ],
            "image/png": "[encoded data removed]"
          },
          "metadata": {
            "needs_background": "light"
          }
        }
      ]
    },
    {
      "cell_type": "code",
      "source": [
        "# report metrics\n",
        "report = classification_report(test_labels, label_cnn, output_dict=True)\n",
        "m_corr = matthews_corrcoef(test_labels, label_cnn, sample_weight=None)\n",
        "df_report = pd.DataFrame(report).transpose()\n",
        "#output report\n",
        "df_report.to_csv(\"CNN_report.csv\", sep=',')\n",
        "\n",
        "# save confusion matrix\n",
        "df_confusion_matrix = pd.DataFrame(confusion_matrix(label_cnn, test_labels))\n",
        "df_confusion_matrix.to_csv(\"CNN_confusion matrix.csv\", sep=',')\n",
        "\n",
        "print(df_report)\n",
        "print(\"MCorr: \", m_corr)\n",
        "print(\"aupr: \", pr_auc)\n",
        "print(\"auroc: \", roc_auc)"
      ],
      "metadata": {
        "colab": {
          "base_uri": "https://localhost:8080/"
        },
        "id": "5fDZGVM_iNCH",
        "outputId": "c44f1fcc-a4c5-489b-d9bc-c34396b51dc7"
      },
      "execution_count": null,
      "outputs": [
        {
          "output_type": "stream",
          "name": "stdout",
          "text": [
            "              precision    recall  f1-score      support\n",
            "0.0            0.666103  0.629867  0.647478  1875.000000\n",
            "1.0            0.660636  0.695317  0.677533  1943.000000\n",
            "accuracy       0.663174  0.663174  0.663174     0.663174\n",
            "macro avg      0.663369  0.662592  0.662505  3818.000000\n",
            "weighted avg   0.663320  0.663174  0.662773  3818.000000\n",
            "MCorr:  0.3259598401424438\n",
            "aupr:  0.7713713886051634\n",
            "auroc:  0.7394604906501974\n"
          ]
        }
      ]
    },
    {
      "cell_type": "code",
      "source": [
        "\n",
        "# Convert Sequential API to Functional API\n",
        "input_shape = (28, 4)\n",
        "batch_size = 128\n",
        "kernel_size = 3\n",
        "filters = 64\n",
        "dropout = 0.3\n",
        "\n",
        "# utiliaing functional API to build cnn layers\n",
        "visible1 = Input(shape=input_shape)\n",
        "y = Conv1D(filters=100, kernel_size=4, padding='same', activation='relu')(visible1)\n",
        "y = MaxPooling1D(pool_size=2)(y)\n",
        "y = Conv1D(filters=200, kernel_size=4, padding='same', activation='relu')(y)\n",
        "y = MaxPooling1D(pool_size=2)(y)\n",
        "\n",
        "# convert image to vector \n",
        "flat1 = Flatten()(y)\n",
        "\n",
        "# numerical input layer - MLP\n",
        "flat2 = Input(shape=(125,))\n",
        "#flat3 = Dense(60, activation='relu')(flat2)\n",
        "\n",
        "hidden = tf.keras.layers.Concatenate()([flat1, flat2])\n",
        "hidden = Dense(200, activation='relu')(hidden) # 60 \n",
        "hidden = Dense(100, activation='relu')(hidden) # 60 \n",
        "\n",
        "output = Dense(1, activation='sigmoid')(hidden)\n",
        "\n",
        "# model building by supplying inputs/outputs\n",
        "model_hybrid = Model(inputs=(visible1, flat2), outputs=output)\n",
        "\n",
        "model_hybrid.compile(loss='binary_crossentropy', optimizer='adam', metrics=[tf.keras.metrics.AUC()])\n",
        "model_hybrid.summary()\n",
        "plot_model(model_hybrid, to_file='CNN+MLP_graph.png')"
      ],
      "metadata": {
        "colab": {
          "base_uri": "https://localhost:8080/",
          "height": 1000
        },
        "id": "iWnGd7B3I738",
        "outputId": "f7101f61-e59f-45d8-e5b8-5aeabbefe5c9"
      },
      "execution_count": null,
      "outputs": [
        {
          "output_type": "stream",
          "name": "stdout",
          "text": [
            "Model: \"model_2\"\n",
            "__________________________________________________________________________________________________\n",
            " Layer (type)                   Output Shape         Param #     Connected to                     \n",
            "==================================================================================================\n",
            " input_4 (InputLayer)           [(None, 28, 4)]      0           []                               \n",
            "                                                                                                  \n",
            " conv1d_2 (Conv1D)              (None, 28, 100)      1700        ['input_4[0][0]']                \n",
            "                                                                                                  \n",
            " max_pooling1d_1 (MaxPooling1D)  (None, 14, 100)     0           ['conv1d_2[0][0]']               \n",
            "                                                                                                  \n",
            " conv1d_3 (Conv1D)              (None, 14, 200)      80200       ['max_pooling1d_1[0][0]']        \n",
            "                                                                                                  \n",
            " max_pooling1d_2 (MaxPooling1D)  (None, 7, 200)      0           ['conv1d_3[0][0]']               \n",
            "                                                                                                  \n",
            " flatten_1 (Flatten)            (None, 1400)         0           ['max_pooling1d_2[0][0]']        \n",
            "                                                                                                  \n",
            " input_5 (InputLayer)           [(None, 125)]        0           []                               \n",
            "                                                                                                  \n",
            " concatenate (Concatenate)      (None, 1525)         0           ['flatten_1[0][0]',              \n",
            "                                                                  'input_5[0][0]']                \n",
            "                                                                                                  \n",
            " dense_17 (Dense)               (None, 200)          305200      ['concatenate[0][0]']            \n",
            "                                                                                                  \n",
            " dense_18 (Dense)               (None, 100)          20100       ['dense_17[0][0]']               \n",
            "                                                                                                  \n",
            " dense_19 (Dense)               (None, 1)            101         ['dense_18[0][0]']               \n",
            "                                                                                                  \n",
            "==================================================================================================\n",
            "Total params: 407,301\n",
            "Trainable params: 407,301\n",
            "Non-trainable params: 0\n",
            "__________________________________________________________________________________________________\n"
          ]
        },
        {
          "output_type": "execute_result",
          "data": {
            "image/png": "[encoded data removed]",
            "text/plain": [
              "<IPython.core.display.Image object>"
            ]
          },
          "metadata": {},
          "execution_count": 36
        }
      ]
    },
    {
      "cell_type": "code",
      "source": [
        "es = EarlyStopping(monitor='val_loss', mode='min', verbose=1, patience=3)\n",
        "\n",
        "history = model_hybrid.fit([train_features, X_train], y_train, \n",
        "                    epochs=10, verbose=2, validation_split=0.3, batch_size=130, shuffle=True, callbacks=[es])"
      ],
      "metadata": {
        "colab": {
          "base_uri": "https://localhost:8080/",
          "height": 390
        },
        "id": "Y81YvyfiJ2yI",
        "outputId": "8a332dd5-396e-47e7-8cce-a1463aadec90"
      },
      "execution_count": null,
      "outputs": [
        {
          "output_type": "stream",
          "name": "stdout",
          "text": [
            "Epoch 1/10\n"
          ]
        },
        {
          "output_type": "error",
          "ename": "ValueError",
          "evalue": "ignored",
          "traceback": [
            "\u001b[0;31m---------------------------------------------------------------------------\u001b[0m",
            "\u001b[0;31mValueError\u001b[0m                                Traceback (most recent call last)",
            "\u001b[0;32m<ipython-input-348-8870011761be>\u001b[0m in \u001b[0;36m<module>\u001b[0;34m\u001b[0m\n\u001b[1;32m      2\u001b[0m \u001b[0;34m\u001b[0m\u001b[0m\n\u001b[1;32m      3\u001b[0m history = model_hybrid.fit([train_features, X_train], y_train, \n\u001b[0;32m----> 4\u001b[0;31m                     epochs=10, verbose=2, validation_split=0.3, batch_size=130, shuffle=True, callbacks=[es])\n\u001b[0m",
            "\u001b[0;32m/usr/local/lib/python3.7/dist-packages/keras/utils/traceback_utils.py\u001b[0m in \u001b[0;36merror_handler\u001b[0;34m(*args, **kwargs)\u001b[0m\n\u001b[1;32m     62\u001b[0m     \u001b[0mfiltered_tb\u001b[0m \u001b[0;34m=\u001b[0m \u001b[0;32mNone\u001b[0m\u001b[0;34m\u001b[0m\u001b[0;34m\u001b[0m\u001b[0m\n\u001b[1;32m     63\u001b[0m     \u001b[0;32mtry\u001b[0m\u001b[0;34m:\u001b[0m\u001b[0;34m\u001b[0m\u001b[0;34m\u001b[0m\u001b[0m\n\u001b[0;32m---> 64\u001b[0;31m       \u001b[0;32mreturn\u001b[0m \u001b[0mfn\u001b[0m\u001b[0;34m(\u001b[0m\u001b[0;34m*\u001b[0m\u001b[0margs\u001b[0m\u001b[0;34m,\u001b[0m \u001b[0;34m**\u001b[0m\u001b[0mkwargs\u001b[0m\u001b[0;34m)\u001b[0m\u001b[0;34m\u001b[0m\u001b[0;34m\u001b[0m\u001b[0m\n\u001b[0m\u001b[1;32m     65\u001b[0m     \u001b[0;32mexcept\u001b[0m \u001b[0mException\u001b[0m \u001b[0;32mas\u001b[0m \u001b[0me\u001b[0m\u001b[0;34m:\u001b[0m  \u001b[0;31m# pylint: disable=broad-except\u001b[0m\u001b[0;34m\u001b[0m\u001b[0;34m\u001b[0m\u001b[0m\n\u001b[1;32m     66\u001b[0m       \u001b[0mfiltered_tb\u001b[0m \u001b[0;34m=\u001b[0m \u001b[0m_process_traceback_frames\u001b[0m\u001b[0;34m(\u001b[0m\u001b[0me\u001b[0m\u001b[0;34m.\u001b[0m\u001b[0m__traceback__\u001b[0m\u001b[0;34m)\u001b[0m\u001b[0;34m\u001b[0m\u001b[0;34m\u001b[0m\u001b[0m\n",
            "\u001b[0;32m/usr/local/lib/python3.7/dist-packages/tensorflow/python/eager/def_function.py\u001b[0m in \u001b[0;36m_call\u001b[0;34m(self, *args, **kwds)\u001b[0m\n\u001b[1;32m    954\u001b[0m       \u001b[0mresults\u001b[0m \u001b[0;34m=\u001b[0m \u001b[0mself\u001b[0m\u001b[0;34m.\u001b[0m\u001b[0m_stateful_fn\u001b[0m\u001b[0;34m(\u001b[0m\u001b[0;34m*\u001b[0m\u001b[0margs\u001b[0m\u001b[0;34m,\u001b[0m \u001b[0;34m**\u001b[0m\u001b[0mkwds\u001b[0m\u001b[0;34m)\u001b[0m\u001b[0;34m\u001b[0m\u001b[0;34m\u001b[0m\u001b[0m\n\u001b[1;32m    955\u001b[0m       \u001b[0;32mif\u001b[0m \u001b[0mself\u001b[0m\u001b[0;34m.\u001b[0m\u001b[0m_created_variables\u001b[0m \u001b[0;32mand\u001b[0m \u001b[0;32mnot\u001b[0m \u001b[0mALLOW_DYNAMIC_VARIABLE_CREATION\u001b[0m\u001b[0;34m:\u001b[0m\u001b[0;34m\u001b[0m\u001b[0;34m\u001b[0m\u001b[0m\n\u001b[0;32m--> 956\u001b[0;31m         raise ValueError(\"Creating variables on a non-first call to a function\"\n\u001b[0m\u001b[1;32m    957\u001b[0m                          \" decorated with tf.function.\")\n\u001b[1;32m    958\u001b[0m       \u001b[0;32mreturn\u001b[0m \u001b[0mresults\u001b[0m\u001b[0;34m\u001b[0m\u001b[0;34m\u001b[0m\u001b[0m\n",
            "\u001b[0;31mValueError\u001b[0m: Creating variables on a non-first call to a function decorated with tf.function."
          ]
        }
      ]
    },
    {
      "cell_type": "code",
      "source": [
        "#predicted_labels = model_hybrid.predict(np.stack([test_features, X_test]))\n",
        "scores = model_hybrid.evaluate([test_features, X_test], test_labels, verbose=0)\n",
        "\n",
        "print(scores[1])"
      ],
      "metadata": {
        "colab": {
          "base_uri": "https://localhost:8080/"
        },
        "id": "BKD-eQJIUjoI",
        "outputId": "087519df-590b-4839-cfc9-1be790712028"
      },
      "execution_count": null,
      "outputs": [
        {
          "output_type": "stream",
          "name": "stdout",
          "text": [
            "0.748214602470398\n"
          ]
        }
      ]
    },
    {
      "cell_type": "code",
      "source": [
        "# evaluate the model\n",
        "_, train_auc = model.evaluate(train_features, train_labels, verbose=0)\n",
        "_, test_auc = model.evaluate(test_features, test_labels, verbose=0)\n",
        "print('Train: %.3f, Test: %.3f' % (train_auc, test_auc))\n",
        "# plot training history\n",
        "pyplot.plot(history.history['loss'], label='train')\n",
        "pyplot.plot(history.history['val_loss'], label='test')\n",
        "pyplot.legend()\n",
        "pyplot.show()"
      ],
      "metadata": {
        "id": "MGuzv7VJFC_P"
      },
      "execution_count": null,
      "outputs": []
    },
    {
      "cell_type": "code",
      "source": [],
      "metadata": {
        "id": "zUezWk_LHZha"
      },
      "execution_count": null,
      "outputs": []
    },
    {
      "cell_type": "markdown",
      "source": [
        "**CNN-XGBoost Hybrid**"
      ],
      "metadata": {
        "id": "kSPovrg6Hc7p"
      }
    },
    {
      "cell_type": "code",
      "source": [
        "# extract intermediate layer\n",
        "\n",
        "\n",
        "from keras.models import Model\n",
        "layer_name='my_dense'\n",
        "intermediate_layer_model = Model(inputs=model_cnn.input,\n",
        "                                 outputs=model_cnn.get_layer(layer_name).output)\n",
        "\n",
        "intermediate_layer_model.summary()"
      ],
      "metadata": {
        "id": "3gw180NPHjDQ",
        "colab": {
          "base_uri": "https://localhost:8080/"
        },
        "outputId": "1d67c7c2-6658-4307-83d0-c4adbb3130d2"
      },
      "execution_count": null,
      "outputs": [
        {
          "output_type": "stream",
          "name": "stdout",
          "text": [
            "Model: \"model_1\"\n",
            "_________________________________________________________________\n",
            " Layer (type)                Output Shape              Param #   \n",
            "=================================================================\n",
            " conv1d_6_input (InputLayer)  [(None, 28, 4)]          0         \n",
            "                                                                 \n",
            " conv1d_6 (Conv1D)           (None, 28, 150)           1350      \n",
            "                                                                 \n",
            " batch_normalization_3 (Batc  (None, 28, 150)          600       \n",
            " hNormalization)                                                 \n",
            "                                                                 \n",
            " leaky_re_lu_3 (LeakyReLU)   (None, 28, 150)           0         \n",
            "                                                                 \n",
            " conv1d_7 (Conv1D)           (None, 28, 200)           60200     \n",
            "                                                                 \n",
            " max_pooling1d_3 (MaxPooling  (None, 14, 200)          0         \n",
            " 1D)                                                             \n",
            "                                                                 \n",
            " flatten_3 (Flatten)         (None, 2800)              0         \n",
            "                                                                 \n",
            " my_dense (Dense)            (None, 200)               560200    \n",
            "                                                                 \n",
            "=================================================================\n",
            "Total params: 622,350\n",
            "Trainable params: 622,050\n",
            "Non-trainable params: 300\n",
            "_________________________________________________________________\n"
          ]
        }
      ]
    },
    {
      "cell_type": "code",
      "source": [
        "intermediate_output = intermediate_layer_model.predict(train_features) \n",
        "intermediate_output = pd.DataFrame(data=intermediate_output)\n",
        "val_data = intermediate_output[2672:]\n",
        "submission_cnn = model_cnn.predict(test_features)\n",
        "\n",
        "intermediate_output.to_csv('intermediate_output_train.csv', sep=',')"
      ],
      "metadata": {
        "id": "9dWUaiVzdum-",
        "colab": {
          "base_uri": "https://localhost:8080/"
        },
        "outputId": "756543bd-151e-4ba4-b919-b0a91f568140"
      },
      "execution_count": null,
      "outputs": [
        {
          "output_type": "stream",
          "name": "stdout",
          "text": [
            "279/279 [==============================] - 2s 7ms/step\n",
            "120/120 [==============================] - 1s 7ms/step\n"
          ]
        }
      ]
    },
    {
      "cell_type": "code",
      "source": [
        "intermediate_test_output = intermediate_layer_model.predict(test_features)\n",
        "intermediate_test_output = pd.DataFrame(data=intermediate_test_output)"
      ],
      "metadata": {
        "id": "-ohVBu-QeFfz",
        "colab": {
          "base_uri": "https://localhost:8080/"
        },
        "outputId": "ba3ff124-3db2-40ba-82cc-f48cda273217"
      },
      "execution_count": null,
      "outputs": [
        {
          "output_type": "stream",
          "name": "stdout",
          "text": [
            "120/120 [==============================] - 1s 8ms/step\n"
          ]
        }
      ]
    },
    {
      "cell_type": "code",
      "source": [
        "import pandas as pd\n",
        "import xgboost as xgb\n",
        "from xgboost import XGBClassifier, plot_tree\n",
        "from sklearn.model_selection import cross_val_score, GridSearchCV, KFold, RandomizedSearchCV, train_test_split\n",
        "from sklearn.metrics import classification_report\n",
        "from sklearn.model_selection import cross_val_score\n",
        "from sklearn.metrics import accuracy_score\n",
        "from sklearn import metrics\n",
        "from xgboost import cv\n",
        "import time\n",
        "\n",
        "xgbmodel = XGBClassifier(objective='binary:logistic', learning_rate = 0.03,\n",
        "              max_depth = 60, n_estimators = 200, gamma=0.2, subsample=0.6)\n",
        "\n",
        "\n",
        "evaluation = [( intermediate_output, y_train), ( intermediate_test_output, y_test)]\n",
        "\n",
        "xgbmodel.fit(intermediate_output, y_train, eval_set=evaluation, eval_metric=\"auc\", early_stopping_rounds=10)\n",
        "\n",
        "start_time = time.time()\n",
        "preds = xgbmodel.predict(intermediate_test_output)\n",
        "print(\"--- %s seconds ---\" % (time.time() - start_time))\n",
        "\n"
      ],
      "metadata": {
        "colab": {
          "base_uri": "https://localhost:8080/"
        },
        "id": "Z_WaGk95emKp",
        "outputId": "12b4d1b7-de01-4436-b9f6-ce81c5577c39"
      },
      "execution_count": null,
      "outputs": [
        {
          "output_type": "stream",
          "name": "stdout",
          "text": [
            "[0]\tvalidation_0-auc:0.86592\tvalidation_1-auc:0.678935\n",
            "Multiple eval metrics have been passed: 'validation_1-auc' will be used for early stopping.\n",
            "\n",
            "Will train until validation_1-auc hasn't improved in 10 rounds.\n",
            "[1]\tvalidation_0-auc:0.920509\tvalidation_1-auc:0.698902\n",
            "[2]\tvalidation_0-auc:0.9428\tvalidation_1-auc:0.715818\n",
            "[3]\tvalidation_0-auc:0.954921\tvalidation_1-auc:0.720406\n",
            "[4]\tvalidation_0-auc:0.964056\tvalidation_1-auc:0.724471\n",
            "[5]\tvalidation_0-auc:0.969521\tvalidation_1-auc:0.726367\n",
            "[6]\tvalidation_0-auc:0.973384\tvalidation_1-auc:0.726693\n",
            "[7]\tvalidation_0-auc:0.976024\tvalidation_1-auc:0.728671\n",
            "[8]\tvalidation_0-auc:0.978\tvalidation_1-auc:0.728686\n",
            "[9]\tvalidation_0-auc:0.980077\tvalidation_1-auc:0.730495\n",
            "[10]\tvalidation_0-auc:0.982128\tvalidation_1-auc:0.73249\n",
            "[11]\tvalidation_0-auc:0.98386\tvalidation_1-auc:0.733397\n",
            "[12]\tvalidation_0-auc:0.985193\tvalidation_1-auc:0.734228\n",
            "[13]\tvalidation_0-auc:0.986335\tvalidation_1-auc:0.734699\n",
            "[14]\tvalidation_0-auc:0.986959\tvalidation_1-auc:0.736782\n",
            "[15]\tvalidation_0-auc:0.987902\tvalidation_1-auc:0.737941\n",
            "[16]\tvalidation_0-auc:0.988823\tvalidation_1-auc:0.737017\n",
            "[17]\tvalidation_0-auc:0.989532\tvalidation_1-auc:0.736439\n",
            "[18]\tvalidation_0-auc:0.99015\tvalidation_1-auc:0.737777\n",
            "[19]\tvalidation_0-auc:0.990546\tvalidation_1-auc:0.738283\n",
            "[20]\tvalidation_0-auc:0.991085\tvalidation_1-auc:0.738647\n",
            "[21]\tvalidation_0-auc:0.991631\tvalidation_1-auc:0.739606\n",
            "[22]\tvalidation_0-auc:0.992186\tvalidation_1-auc:0.740378\n",
            "[23]\tvalidation_0-auc:0.992798\tvalidation_1-auc:0.741008\n",
            "[24]\tvalidation_0-auc:0.99317\tvalidation_1-auc:0.741442\n",
            "[25]\tvalidation_0-auc:0.993465\tvalidation_1-auc:0.741559\n",
            "[26]\tvalidation_0-auc:0.993655\tvalidation_1-auc:0.741354\n",
            "[27]\tvalidation_0-auc:0.994025\tvalidation_1-auc:0.741085\n",
            "[28]\tvalidation_0-auc:0.994244\tvalidation_1-auc:0.741623\n",
            "[29]\tvalidation_0-auc:0.994439\tvalidation_1-auc:0.742353\n",
            "[30]\tvalidation_0-auc:0.994688\tvalidation_1-auc:0.742364\n",
            "[31]\tvalidation_0-auc:0.994922\tvalidation_1-auc:0.742523\n",
            "[32]\tvalidation_0-auc:0.995179\tvalidation_1-auc:0.742626\n",
            "[33]\tvalidation_0-auc:0.995338\tvalidation_1-auc:0.74258\n",
            "[34]\tvalidation_0-auc:0.995503\tvalidation_1-auc:0.743195\n",
            "[35]\tvalidation_0-auc:0.995753\tvalidation_1-auc:0.7425\n",
            "[36]\tvalidation_0-auc:0.9959\tvalidation_1-auc:0.742566\n",
            "[37]\tvalidation_0-auc:0.996076\tvalidation_1-auc:0.743042\n",
            "[38]\tvalidation_0-auc:0.996193\tvalidation_1-auc:0.7429\n",
            "[39]\tvalidation_0-auc:0.996315\tvalidation_1-auc:0.742747\n",
            "[40]\tvalidation_0-auc:0.996521\tvalidation_1-auc:0.74299\n",
            "[41]\tvalidation_0-auc:0.996657\tvalidation_1-auc:0.743081\n",
            "[42]\tvalidation_0-auc:0.996711\tvalidation_1-auc:0.743747\n",
            "[43]\tvalidation_0-auc:0.996827\tvalidation_1-auc:0.743995\n",
            "[44]\tvalidation_0-auc:0.996873\tvalidation_1-auc:0.743999\n",
            "[45]\tvalidation_0-auc:0.996993\tvalidation_1-auc:0.743709\n",
            "[46]\tvalidation_0-auc:0.997088\tvalidation_1-auc:0.743943\n",
            "[47]\tvalidation_0-auc:0.997174\tvalidation_1-auc:0.743795\n",
            "[48]\tvalidation_0-auc:0.997243\tvalidation_1-auc:0.74313\n",
            "[49]\tvalidation_0-auc:0.997299\tvalidation_1-auc:0.743944\n",
            "[50]\tvalidation_0-auc:0.997422\tvalidation_1-auc:0.74391\n",
            "[51]\tvalidation_0-auc:0.997482\tvalidation_1-auc:0.744383\n",
            "[52]\tvalidation_0-auc:0.99754\tvalidation_1-auc:0.744337\n",
            "[53]\tvalidation_0-auc:0.997597\tvalidation_1-auc:0.744411\n",
            "[54]\tvalidation_0-auc:0.99764\tvalidation_1-auc:0.744399\n",
            "[55]\tvalidation_0-auc:0.997743\tvalidation_1-auc:0.744803\n",
            "[56]\tvalidation_0-auc:0.997797\tvalidation_1-auc:0.744535\n",
            "[57]\tvalidation_0-auc:0.997884\tvalidation_1-auc:0.744862\n",
            "[58]\tvalidation_0-auc:0.997946\tvalidation_1-auc:0.744834\n",
            "[59]\tvalidation_0-auc:0.998068\tvalidation_1-auc:0.744527\n",
            "[60]\tvalidation_0-auc:0.998134\tvalidation_1-auc:0.744538\n",
            "[61]\tvalidation_0-auc:0.998224\tvalidation_1-auc:0.744403\n",
            "[62]\tvalidation_0-auc:0.99828\tvalidation_1-auc:0.744369\n",
            "[63]\tvalidation_0-auc:0.998312\tvalidation_1-auc:0.744152\n",
            "[64]\tvalidation_0-auc:0.998373\tvalidation_1-auc:0.744121\n",
            "[65]\tvalidation_0-auc:0.998444\tvalidation_1-auc:0.744047\n",
            "[66]\tvalidation_0-auc:0.998528\tvalidation_1-auc:0.743885\n",
            "[67]\tvalidation_0-auc:0.99858\tvalidation_1-auc:0.743867\n",
            "Stopping. Best iteration:\n",
            "[57]\tvalidation_0-auc:0.997884\tvalidation_1-auc:0.744862\n",
            "\n",
            "--- 0.057901859283447266 seconds ---\n"
          ]
        }
      ]
    },
    {
      "cell_type": "code",
      "source": [
        "y_pred_proba = xgbmodel.predict_proba(intermediate_test_output)[::, 1]\n",
        "roc_auc = metrics.roc_auc_score(y_test, y_pred_proba)\n",
        "report = classification_report(y_test, preds, output_dict=True)\n",
        "accuracy = accuracy_score(y_test, preds)\n",
        "print(report)\n",
        "print('Accuracy: ', accuracy)\n",
        "print('ROC_AUC: ', roc_auc) # is this global minima or local minima?"
      ],
      "metadata": {
        "colab": {
          "base_uri": "https://localhost:8080/"
        },
        "id": "NvBVjQOupIKt",
        "outputId": "0ef54849-8255-4383-9a97-d7c193fab786"
      },
      "execution_count": null,
      "outputs": [
        {
          "output_type": "stream",
          "name": "stdout",
          "text": [
            "{'0': {'precision': 0.7017744705208929, 'recall': 0.6309830159547092, 'f1-score': 0.6644986449864498, 'support': 1943}, '1': {'precision': 0.6537904394012555, 'recall': 0.7221333333333333, 'f1-score': 0.6862645717181957, 'support': 1875}, 'accuracy': 0.675746464117339, 'macro avg': {'precision': 0.6777824549610743, 'recall': 0.6765581746440212, 'f1-score': 0.6753816083523227, 'support': 3818}, 'weighted avg': {'precision': 0.6782097616813644, 'recall': 0.675746464117339, 'f1-score': 0.6751877787271579, 'support': 3818}}\n",
            "Accuracy:  0.675746464117339\n",
            "ROC_AUC:  0.7448624463887459\n"
          ]
        }
      ]
    },
    {
      "cell_type": "code",
      "source": [
        "fpr, tpr, _ = metrics.roc_curve(y_test, y_pred_proba)\n",
        "roc_auc = metrics.roc_auc_score(y_test, y_pred_proba)\n"
      ],
      "metadata": {
        "id": "w1uA_B-jW5JV"
      },
      "execution_count": null,
      "outputs": []
    },
    {
      "cell_type": "code",
      "source": [
        "list_fpr = list(fpr)\n",
        "list_tpr = list(tpr)\n",
        "df_scores_auc = pd.DataFrame({'FPR': list_fpr, 'TPR': list_tpr})\n",
        "\n",
        "df_scores_auc.to_csv(\"CNNXGB_fpr_tpr.csv\", sep=',')\n",
        "\n",
        "# PRECISION-RECALL SCORE\n",
        "precision, recall, thresholds = precision_recall_curve(y_test, y_pred_proba)\n",
        "list_pr = list(precision)\n",
        "list_rc = list(recall)\n",
        "df_scores_rc = pd.DataFrame({'Precision': list_pr, 'Recall': list_rc})\n",
        "df_scores_rc.to_csv(\"CNNXGB_pr_rc.csv\", sep=',')"
      ],
      "metadata": {
        "id": "ycHlX0wIG9sV"
      },
      "execution_count": null,
      "outputs": []
    },
    {
      "cell_type": "code",
      "source": [
        "import matplotlib.pyplot as plt\n",
        "def auROC_plot(y_test, y_pred_proba):\n",
        "    fpr, tpr, threshold = metrics.roc_curve(y_test, y_pred_proba)\n",
        "    roc_auc = metrics.roc_auc_score(y_test, y_pred_proba)\n",
        "\n",
        "    plt.title('Receiver Operating Characteristic')\n",
        "    plt.plot(fpr, tpr, label = 'XGBoost AUC = %0.2f' % roc_auc) # blue=cpf1, orange=adapt, green=dc\n",
        "    plt.legend(loc = 'lower right')\n",
        "    plt.plot([0, 1], [0, 1],'r--')\n",
        "    plt.xlim([0, 1])\n",
        "    plt.ylim([0, 1])\n",
        "    plt.ylabel('True Positive Rate')\n",
        "    plt.xlabel('False Positive Rate')\n",
        "    plt.show()\n",
        "  \n",
        "auROC_plot(y_test, y_pred_proba)"
      ],
      "metadata": {
        "colab": {
          "base_uri": "https://localhost:8080/",
          "height": 295
        },
        "id": "U4qJi2ZrHFHs",
        "outputId": "1d4005cb-5ea7-49b5-879e-68602bdaab90"
      },
      "execution_count": null,
      "outputs": [
        {
          "output_type": "display_data",
          "data": {
            "text/plain": [
              "<Figure size 432x288 with 1 Axes>"
            ],
            "image/png": "[encoded data removed]"
          },
          "metadata": {
            "needs_background": "light"
          }
        }
      ]
    },
    {
      "cell_type": "code",
      "source": [
        "fpr, tpr, _ = metrics.roc_curve(y_test, y_pred_proba)\n",
        "roc_auc = metrics.roc_auc_score(y_test, y_pred_proba)\n",
        "\n",
        "list_fpr = list(fpr)\n",
        "list_tpr = list(tpr)\n",
        "df_scores_auc = pd.DataFrame({'FPR': list_fpr, 'TPR': list_tpr})\n",
        "\n",
        "df_scores_auc.to_csv(\"CNNXGB_fpr_tpr.csv\", sep=',')\n",
        "\n",
        "auROC_plot(y_test, y_pred_proba)\n",
        "\n",
        "# PRECISION-RECALL SCORE\n",
        "precision, recall, thresholds = precision_recall_curve(y_test, y_pred_proba)\n",
        "aupr = auc(recall, precision)\n",
        "list_pr = list(precision)\n",
        "list_rc = list(recall)\n",
        "df_scores_rc = pd.DataFrame({'Precision': list_pr, 'Recall': list_rc})\n",
        "df_scores_rc.to_csv(\"CNNXGB_pr_rc.csv\", sep=',')\n",
        "\n",
        "# create precision recall curve\n",
        "fig, ax = plt.subplots()\n",
        "ax.plot(recall, precision, color='purple')\n",
        "\n",
        "# add axis labels to plot\n",
        "ax.set_title('Precision-Recall Curve')\n",
        "ax.set_ylabel('Precision')\n",
        "ax.set_xlabel('Recall')\n",
        "\n",
        "# display plot\n",
        "plt.show()\n",
        "\n",
        "print(roc_auc)\n",
        "auROC_plot(y_test, y_pred_proba)\n",
        "\n",
        "# report metrics\n",
        "report = classification_report(y_test, predictions_cv, output_dict=True)\n",
        "m_corr = matthews_corrcoef(y_test, predictions_cv, sample_weight=None)\n",
        "df_report = pd.DataFrame(report).transpose()\n",
        "\n",
        "# save confusion matrix\n",
        "df_confusion_matrix = pd.DataFrame(confusion_matrix(predictions_cv, y_test))\n",
        "df_confusion_matrix.to_csv(\"CNNXGB_confusion matrix.csv\", sep=',')\n",
        "\n",
        "print(df_report)\n",
        "print(\"MCorr: \", m_corr)\n",
        "print(\"aupr: \", aupr)\n",
        "print(\"auroc: \", roc_auc)\n",
        "\n",
        "#output report\n",
        "df_report.to_csv(\"CNNXGB_report.csv\", sep=',')"
      ],
      "metadata": {
        "id": "1zFB6uTbHa8e",
        "outputId": "25a63f0a-d137-4f45-cff4-140e831f318f",
        "colab": {
          "base_uri": "https://localhost:8080/",
          "height": 1000
        }
      },
      "execution_count": null,
      "outputs": [
        {
          "output_type": "display_data",
          "data": {
            "text/plain": [
              "<Figure size 432x288 with 1 Axes>"
            ],
            "image/png": "[encoded data removed]"
          },
          "metadata": {
            "needs_background": "light"
          }
        },
        {
          "output_type": "display_data",
          "data": {
            "text/plain": [
              "<Figure size 432x288 with 1 Axes>"
            ],
            "image/png": "[encoded data removed]"
          },
          "metadata": {
            "needs_background": "light"
          }
        },
        {
          "output_type": "stream",
          "name": "stdout",
          "text": [
            "0.7448624463887459\n"
          ]
        },
        {
          "output_type": "display_data",
          "data": {
            "text/plain": [
              "<Figure size 432x288 with 1 Axes>"
            ],
            "image/png": "[encoded data removed]"
          },
          "metadata": {
            "needs_background": "light"
          }
        },
        {
          "output_type": "stream",
          "name": "stdout",
          "text": [
            "              precision    recall  f1-score      support\n",
            "0              0.689601  0.675759  0.682610  1943.000000\n",
            "1              0.670846  0.684800  0.677751  1875.000000\n",
            "accuracy       0.680199  0.680199  0.680199     0.680199\n",
            "macro avg      0.680224  0.680280  0.680181  3818.000000\n",
            "weighted avg   0.680391  0.680199  0.680224  3818.000000\n",
            "MCorr:  0.3605031809973618\n",
            "aupr:  0.7106844731189477\n",
            "auroc:  0.7448624463887459\n"
          ]
        }
      ]
    }
  ]
}